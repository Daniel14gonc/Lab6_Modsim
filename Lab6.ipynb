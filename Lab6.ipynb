{
 "cells": [
  {
   "cell_type": "markdown",
   "metadata": {},
   "source": [
    "# Laboratorio 6\n",
    "#### 20880 Sebastian Aristondo\n",
    "#### 20293 Daniel Gonzalez"
   ]
  },
  {
   "cell_type": "markdown",
   "metadata": {},
   "source": [
    "## Ejercicio 1\n",
    "\n",
    "Cree un programa en Python (o en el lenguaje de su preferencia) para modelar la distribución de temperatura dentro\n",
    "de una varilla sólida. Utilice modelado secuencial multiescala, donde combina un modelo macroscópico y un\n",
    "modelo microscópico. Suponga que la varilla consta de dos materiales diferentes con diferentes conductividades\n",
    "térmicas."
   ]
  },
  {
   "cell_type": "code",
   "execution_count": null,
   "metadata": {},
   "outputs": [],
   "source": [
    "import random\n",
    "\n",
    "class atomo(object):\n",
    "    \n",
    "    def __init__(self, masa, left_neighbour, right_neighbour):\n",
    "        self.move= [\"left\", \"right\"]\n",
    "        self.mass = masa\n",
    "        self.left_neighbour = self.left_neighbour\n",
    "        self.right_neighbour = self.right_neighbour\n",
    "\n",
    "    def random_move(self):\n",
    "        self.position = random.choice(self.move)\n",
    "    \n",
    "    def exist_colision(self):\n",
    "        if self.left_neighbour.position == \"right\" and self.position == \"left\":\n",
    "            return (self.left_neighbour.mass + self.mass)*0.5\n",
    "            \n",
    "        if self.right_neighbour.position == \"left\" and self.position == \"right\":\n",
    "            return (self.right_neighbour.mass + self.mass)*0.5\n",
    "        \n",
    "        return 0\n"
   ]
  },
  {
   "cell_type": "code",
   "execution_count": null,
   "metadata": {
    "vscode": {
     "languageId": "plaintext"
    }
   },
   "outputs": [],
   "source": [
    "masa_aluminio = 2700\n",
    "masa_hierro = 7850"
   ]
  }
 ],
 "metadata": {
  "language_info": {
   "name": "python"
  },
  "orig_nbformat": 4
 },
 "nbformat": 4,
 "nbformat_minor": 2
}
