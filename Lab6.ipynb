{
 "cells": [
  {
   "cell_type": "markdown",
   "metadata": {},
   "source": [
    "# Laboratorio 6\n",
    "#### 20880 Sebastian Aristondo\n",
    "#### 20293 Daniel Gonzalez"
   ]
  },
  {
   "cell_type": "markdown",
   "metadata": {},
   "source": [
    "## Ejercicio 1\n",
    "\n",
    "Cree un programa en Python (o en el lenguaje de su preferencia) para modelar la distribución de temperatura dentro\n",
    "de una varilla sólida. Utilice modelado secuencial multiescala, donde combina un modelo macroscópico y un\n",
    "modelo microscópico. Suponga que la varilla consta de dos materiales diferentes con diferentes conductividades\n",
    "térmicas."
   ]
  },
  {
   "cell_type": "code",
   "execution_count": null,
   "metadata": {},
   "outputs": [],
   "source": [
    "import numpy as np\n",
    "import random\n",
    "import matplotlib.pyplot as plt"
   ]
  },
  {
   "cell_type": "code",
   "execution_count": null,
   "metadata": {},
   "outputs": [],
   "source": [
    "class atomo(object):\n",
    "    \n",
    "    def __init__(self, masa, left_neighbour, right_neighbour, position):\n",
    "        self.move= [\"left\", \"right\"]\n",
    "        self.mass = masa\n",
    "        self.left_neighbour = left_neighbour\n",
    "        self.right_neighbour = right_neighbour\n",
    "        self.position = position\n",
    "\n",
    "    def random_move(self):\n",
    "        self.position = random.choice(self.move)\n",
    "    \n",
    "    def exist_colision(self):\n",
    "        if self.left_neighbour:\n",
    "            if self.left_neighbour.position == \"right\" and self.position == \"left\":\n",
    "                return (self.left_neighbour.mass + self.mass)*0.5\n",
    "        if self.right_neighbour:  \n",
    "            if self.right_neighbour.position == \"left\" and self.position == \"right\":\n",
    "                return (self.right_neighbour.mass + self.mass)*0.5\n",
    "        \n",
    "        return 0\n"
   ]
  },
  {
   "cell_type": "code",
   "execution_count": null,
   "metadata": {},
   "outputs": [],
   "source": [
    "masa_aluminio = 2700\n",
    "masa_hierro = 7850\n",
    "tipo_atomo = [masa_aluminio, masa_hierro]\n",
    "c = (masa_hierro * 450 + masa_aluminio * 900) / (masa_aluminio + masa_hierro)\n",
    "T = 280\n",
    "iteraciones_micro = 1000\n",
    "atomos = 10000\n",
    "epochs = 100"
   ]
  },
  {
   "cell_type": "code",
   "execution_count": null,
   "metadata": {},
   "outputs": [],
   "source": [
    "# Definir el rango deseado para velocidades más frecuentes\n",
    "velocidad_minima = 0.5\n",
    "velocidad_maxima = 1.5\n",
    "\n",
    "# Calcular la media en ese rango\n",
    "media_en_rango = (velocidad_maxima + velocidad_minima) / 2\n",
    "\n",
    "# Calcular la tasa (lambda) para la distribución exponencial\n",
    "lambda_param = 1 / media_en_rango\n",
    "\n",
    "# Tamaño de la muestra\n",
    "tamaño_muestra = epochs * iteraciones_micro\n",
    "\n",
    "# Generar una muestra de velocidades con distribución exponencial\n",
    "muestras_exponencial = np.random.exponential(scale=1/lambda_param, size=tamaño_muestra)"
   ]
  },
  {
   "cell_type": "code",
   "execution_count": null,
   "metadata": {},
   "outputs": [],
   "source": [
    "varilla=[]\n",
    "m = 0\n",
    "for i in range(atomos):\n",
    "    if i % 2 ==0:\n",
    "        varilla.append(atomo(masa_aluminio, None, None, i))\n",
    "        m += masa_aluminio\n",
    "    else:\n",
    "        varilla.append(atomo(masa_hierro, None, None, i))\n",
    "        m += masa_hierro\n",
    "        \n",
    "for i in range(atomos):\n",
    "    if i == 0:\n",
    "        varilla[i].right_neighbour = varilla[i+1]\n",
    "    elif i == atomos-1:\n",
    "        varilla[i].left_neighbour = varilla[i-1]\n",
    "    else:\n",
    "        varilla[i].left_neighbour = varilla[i-1]\n",
    "        varilla[i].right_neighbour = varilla[i+1]\n",
    "    "
   ]
  },
  {
   "cell_type": "code",
   "execution_count": null,
   "metadata": {},
   "outputs": [],
   "source": [
    "def calculate_Q(res, velocity):\n",
    "    return res * velocity"
   ]
  },
  {
   "cell_type": "code",
   "execution_count": null,
   "metadata": {},
   "outputs": [],
   "source": [
    "def temperature_differnce(Q):\n",
    "    return Q / (m * c)"
   ]
  },
  {
   "cell_type": "code",
   "execution_count": null,
   "metadata": {},
   "outputs": [],
   "source": [
    "i = 0\n",
    "temperatura = []\n",
    "Q = []\n",
    "for epoch in range(epochs):\n",
    "    Q_acumulado = 0\n",
    "    for iteraciones in range(iteraciones_micro):\n",
    "        velocidad = muestras_exponencial[i]\n",
    "        i += 1\n",
    "        for atomo in varilla:\n",
    "            atomo.random_move()\n",
    "        for atomo in varilla:\n",
    "            Q_acumulado += calculate_Q(atomo.exist_colision(), velocidad)\n",
    "    Q_acumulado /= 2.0\n",
    "    Q_promedio = Q_acumulado / iteraciones_micro\n",
    "    T = T + temperature_differnce(Q_promedio)\n",
    "    Q.append(Q_promedio)\n",
    "    temperatura.append(T)\n"
   ]
  },
  {
   "cell_type": "code",
   "execution_count": null,
   "metadata": {},
   "outputs": [],
   "source": [
    "# Crear el gráfico con líneas que unen los puntos para 'temperatura'\n",
    "plt.plot(range(len(temperatura)), temperatura, color='b', label='Temperatura', marker='o', linestyle='-')\n",
    "\n",
    "# Añadir etiquetas y título\n",
    "plt.xlabel('Iteración')\n",
    "plt.ylabel('Temperatura (K)')\n",
    "plt.title('Temperatura de varilla en iteraciones')\n",
    "\n",
    "# Mostrar leyenda\n",
    "plt.legend()\n",
    "\n",
    "# Mostrar el gráfico\n",
    "plt.show()"
   ]
  },
  {
   "cell_type": "code",
   "execution_count": null,
   "metadata": {},
   "outputs": [],
   "source": [
    "# Crear el gráfico con líneas que unen los puntos para 'Q'\n",
    "plt.plot(range(len(Q)), Q, color='r', label='Q', marker='o', linestyle='-')\n",
    "\n",
    "# Añadir etiquetas y título\n",
    "plt.xlabel('Iteración')\n",
    "plt.ylabel('Calor (J)')\n",
    "plt.title('Calor emitido promedio')\n",
    "\n",
    "# Mostrar leyenda\n",
    "plt.legend()\n",
    "\n",
    "# Mostrar el gráfico\n",
    "plt.show()"
   ]
  },
  {
   "cell_type": "markdown",
   "metadata": {},
   "source": [
    "**a. ¿En qué se diferencia el modelo macroscópico del modelo microscópico en este escenario?**\n",
    "\n",
    "\n",
    "El modelo macroscópico se basa en la temperatura de la varilla en general, mientras que el modelo microscópico se basa en la temperatura de los átomos que componen la varilla. También si diferencia en que el modelos microscópico se basa en agentes y el modelo macroscópico es una formula de energía cinética.\n",
    "\n",
    "**b. ¿Cuáles son las condiciones de contorno del modelo microscópico y cómo las determina el modelo macroscópico?**\n",
    "\n",
    "\n",
    "La condición del modelo microscópico se basa en si ocurre una colisión entre los átomos. Todos aquellos átomos que colisionen generar calor. El modelo macroscópico calculara la temperatura de la varilla en base a la suma de las temperaturas de los átomos.\n",
    "\n",
    "**c. ¿Cómo adaptaría este modelo multiescala si la varilla estuviera compuesta por más de dos materiales diferentes?**\n",
    "\n",
    "\n",
    "Debido a como realizamos nuestra implementación el modelo se adaptaría muy facil. Al momento de inicializar la calse atomo solo sería de establecer la masa de los n materiales nuevos. La simulación sería exactamente igual ya que solo se estaría afectando la masa de los átomos."
   ]
  },
  {
   "cell_type": "markdown",
   "metadata": {},
   "source": [
    "## Ejercicio 2\n",
    "\n",
    "Implemente un enfoque de modelado multiescala concurrente en Python para simular el flujo de agua a través de\n",
    "una formación rocosa porosa. Utilice tanto un modelo macroscópico (ley de Darcy) como un modelo microscópico\n",
    "(ecuaciones de Navier-Stokes) para describir el flujo."
   ]
  },
  {
   "cell_type": "code",
   "execution_count": 10,
   "metadata": {},
   "outputs": [],
   "source": [
    "A = 1.25 # m^2\n",
    "ro = 997 # kg/m^3\n",
    "miu = 0.474 # Visocidad cinemática 60 C"
   ]
  },
  {
   "cell_type": "code",
   "execution_count": 18,
   "metadata": {},
   "outputs": [
    {
     "data": {
      "image/png": "[encoded data removed]",
      "text/plain": [
       "<Figure size 640x480 with 1 Axes>"
      ]
     },
     "metadata": {},
     "output_type": "display_data"
    }
   ],
   "source": [
    "# Paso 1: Simulación del flujo con la Ley de Darcy (Macroescala)\n",
    "def simulate_darcy_flow(velocidad_media = 50):\n",
    "    return (ro * velocidad_media * A) / miu\n",
    "\n",
    "\n",
    "# Parámetros del problema\n",
    "L = 1.0  # Longitud del dominio\n",
    "Nx = 100  # Número de puntos de la malla espacial\n",
    "dx = L / (Nx - 1)  # Tamaño de paso en la malla\n",
    "nu = 0.01  # Viscosidad cinemática\n",
    "dt = 0.001  # Paso de tiempo\n",
    "# Inicialización de la malla espacial\n",
    "x = np.linspace(0, L, Nx)\n",
    "\n",
    "# Inicialización de la condición inicial (perfil inicial de velocidad)\n",
    "u = np.zeros(Nx)\n",
    "u[int(0.5 / dx):int(0.6 / dx)] = 1.0  # Condición inicial: un pulso de velocidad\n",
    "\n",
    "\n",
    "# Paso 2: Simulación del flujo con las Ecuaciones de Navier-Stokes (Microescala)\n",
    "def simulate_navier_stokes_flow(macroscopic_results, u):\n",
    "    u_new = np.zeros(Nx)\n",
    "    for i in range(1, Nx - 1):\n",
    "        # Implementación de la discretización de las ecuaciones de Navier-Stokes\n",
    "        u_new[i] = u[i] + nu * dt / dx**2 * (u[i+1] - 2 * u[i] + u[i-1])\n",
    "\n",
    "    # Actualización del perfil de velocidad\n",
    "    u = u_new\n",
    "    return u\n",
    "\n",
    "\n",
    "velocidad_result =[] \n",
    "# Paso 3: Enfoque Multiescala Concurrente\n",
    "def multiscale_simulation():\n",
    "    # Inicializa las simulaciones macro y micro\n",
    "    macroscopic_results = simulate_darcy_flow()\n",
    "    microscopic_results = simulate_navier_stokes_flow(macroscopic_results, u)\n",
    "    \n",
    "    # Itera o acopla las simulaciones según sea necesario\n",
    "    for _ in range(num_iterations):\n",
    "        \n",
    "        # Realiza la simulación microscópica\n",
    "        microscopic_results = simulate_navier_stokes_flow(macroscopic_results, u)\n",
    "        # Realiza la simulación macroscópica\n",
    "        macroscopic_results = simulate_darcy_flow(microscopic_results)\n",
    "        velocidad_result.extend(macroscopic_results)\n",
    "    \n",
    "    return velocidad_result\n",
    "\n",
    "# Paso 4: Visualización del Flujo de Agua\n",
    "def visualize_results(speed):\n",
    "    plt.plot(speed)\n",
    "    plt.show()\n",
    "\n",
    "# Ejecuta la simulación multiescala y visualiza los resultados\n",
    "num_iterations = 10\n",
    "vel = multiscale_simulation()\n",
    "visualize_results(vel)"
   ]
  },
  {
   "cell_type": "code",
   "execution_count": 20,
   "metadata": {},
   "outputs": [
    {
     "name": "stdout",
     "output_type": "stream",
     "text": [
      "Presiones en el nivel macroscópico:\n",
      "[1. 1. 1. 1. 1. 1. 1. 1. 1. 1. 1. 1. 1. 1. 1. 1. 1. 1. 1. 1. 1. 1. 1. 1.\n",
      " 1. 1. 1. 1. 1. 1. 1. 1. 1. 1. 1. 1. 1. 1. 1. 1. 1. 1. 1. 1. 1. 1. 1. 1.\n",
      " 1. 1. 1. 1. 1. 1. 1. 1. 1. 1. 1. 1. 1. 1. 1. 1. 1. 1. 1. 1. 1. 1. 1. 1.\n",
      " 1. 1. 1. 1. 1. 1. 1. 1. 1. 1. 1. 1. 1. 1. 1. 1. 1. 1. 1. 1. 1. 1. 1. 1.\n",
      " 1. 1. 1. 1.]\n",
      "\n",
      "Presiones en el nivel microscópico:\n",
      "[1. 1. 1. 1. 1. 1. 1. 1. 1. 1.]\n"
     ]
    },
    {
     "data": {
      "image/png": "[encoded data removed]",
      "text/plain": [
       "<Figure size 1200x600 with 2 Axes>"
      ]
     },
     "metadata": {},
     "output_type": "display_data"
    }
   ],
   "source": [
    "import numpy as np\n",
    "import matplotlib.pyplot as plt\n",
    "\n",
    "# Parámetros para la formación rocosa porosa\n",
    "porosidad = 0.2  # Porosidad de la formación\n",
    "permeabilidad = 1.0  # Permeabilidad de la formación\n",
    "\n",
    "# Parámetros para la discretización\n",
    "num_celdas_macro = 100  # Número de celdas para el modelo macroscópico\n",
    "num_celdas_micro = 10  # Número de celdas para el modelo microscópico\n",
    "\n",
    "# Longitud de la formación rocosa\n",
    "longitud_formacion = 100.0\n",
    "\n",
    "# Delta x para cada nivel de escala\n",
    "dx_macro = longitud_formacion / num_celdas_macro\n",
    "dx_micro = dx_macro * (num_celdas_macro / num_celdas_micro)\n",
    "\n",
    "# Crear arreglos para almacenar presiones en cada celda\n",
    "presiones_macro = np.ones(num_celdas_macro)  # Inicializar todas las presiones a 1.0\n",
    "presiones_micro = np.ones(num_celdas_micro)  # Inicializar todas las presiones a 1.0\n",
    "\n",
    "# Simulación en el nivel macroscópico usando la ley de Darcy\n",
    "def simular_macroscopico():\n",
    "    global presiones_macro\n",
    "    # Aplicar la ley de Darcy: Q = -K * A * (dp/dx)\n",
    "    for i in range(1, num_celdas_macro - 1):\n",
    "        dp_dx = (presiones_macro[i - 1] - presiones_macro[i]) / dx_macro\n",
    "        flujo = -permeabilidad * porosidad * dp_dx\n",
    "        presiones_macro[i] -= flujo * dx_macro\n",
    "\n",
    "# Simulación en el nivel microscópico usando las ecuaciones de Navier-Stokes\n",
    "def simular_microscopico():\n",
    "    global presiones_micro\n",
    "    # Implementar las ecuaciones de Navier-Stokes para el flujo en una dimensión\n",
    "    for i in range(1, num_celdas_micro - 1):\n",
    "        dp_dx = (presiones_micro[i - 1] - presiones_micro[i]) / dx_micro\n",
    "        flujo = -porosidad * dp_dx\n",
    "        presiones_micro[i] -= flujo * dx_micro\n",
    "\n",
    "# Función para ejecutar la simulación multiescala\n",
    "def simular_multiescala(num_pasos):\n",
    "    for _ in range(num_pasos):\n",
    "        simular_macroscopico()  # Simular en el nivel macroscópico\n",
    "        simular_microscopico()  # Simular en el nivel microscópico\n",
    "\n",
    "# Número de pasos de simulación\n",
    "num_pasos_simulacion = 100\n",
    "\n",
    "# Ejecutar la simulación multiescala\n",
    "simular_multiescala(num_pasos_simulacion)\n",
    "\n",
    "# Imprimir resultados\n",
    "print(\"Presiones en el nivel macroscópico:\")\n",
    "print(presiones_macro)\n",
    "\n",
    "print(\"\\nPresiones en el nivel microscópico:\")\n",
    "print(presiones_micro)\n",
    "\n",
    "# Visualizar los resultados\n",
    "plt.figure(figsize=(12, 6))\n",
    "plt.subplot(2, 1, 1)\n",
    "plt.plot(np.arange(0, longitud_formacion, dx_macro), presiones_macro, label='Macroscópico')\n",
    "plt.xlabel('Posición')\n",
    "plt.ylabel('Presión')\n",
    "plt.legend()\n",
    "\n",
    "plt.subplot(2, 1, 2)\n",
    "plt.plot(np.arange(0, longitud_formacion, dx_macro * (num_celdas_macro / num_celdas_micro)), presiones_micro, label='Microscópico')\n",
    "plt.xlabel('Posición')\n",
    "plt.ylabel('Presión')\n",
    "plt.legend()\n",
    "\n",
    "plt.tight_layout()\n",
    "plt.show()\n"
   ]
  }
 ],
 "metadata": {
  "kernelspec": {
   "display_name": "myenv",
   "language": "python",
   "name": "python3"
  },
  "language_info": {
   "codemirror_mode": {
    "name": "ipython",
    "version": 3
   },
   "file_extension": ".py",
   "mimetype": "text/x-python",
   "name": "python",
   "nbconvert_exporter": "python",
   "pygments_lexer": "ipython3",
   "version": "3.10.11"
  },
  "orig_nbformat": 4
 },
 "nbformat": 4,
 "nbformat_minor": 2
}
