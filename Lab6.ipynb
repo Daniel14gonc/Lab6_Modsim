{
 "cells": [
  {
   "cell_type": "markdown",
   "metadata": {},
   "source": [
    "# Laboratorio 6\n",
    "#### 20880 Sebastian Aristondo\n",
    "#### 20293 Daniel Gonzalez"
   ]
  },
  {
   "cell_type": "markdown",
   "metadata": {},
   "source": [
    "## Ejercicio 1\n",
    "\n",
    "Cree un programa en Python (o en el lenguaje de su preferencia) para modelar la distribución de temperatura dentro\n",
    "de una varilla sólida. Utilice modelado secuencial multiescala, donde combina un modelo macroscópico y un\n",
    "modelo microscópico. Suponga que la varilla consta de dos materiales diferentes con diferentes conductividades\n",
    "térmicas."
   ]
  },
  {
   "cell_type": "code",
   "execution_count": 76,
   "metadata": {},
   "outputs": [],
   "source": [
    "import numpy as np\n",
    "import random\n",
    "import matplotlib.pyplot as plt"
   ]
  },
  {
   "cell_type": "code",
   "execution_count": 77,
   "metadata": {},
   "outputs": [],
   "source": [
    "class atomo(object):\n",
    "    \n",
    "    def __init__(self, masa, left_neighbour, right_neighbour, position):\n",
    "        self.move= [\"left\", \"right\"]\n",
    "        self.mass = masa\n",
    "        self.left_neighbour = left_neighbour\n",
    "        self.right_neighbour = right_neighbour\n",
    "        self.position = position\n",
    "\n",
    "    def random_move(self):\n",
    "        self.position = random.choice(self.move)\n",
    "    \n",
    "    def exist_colision(self):\n",
    "        if self.left_neighbour:\n",
    "            if self.left_neighbour.position == \"right\" and self.position == \"left\":\n",
    "                return (self.left_neighbour.mass + self.mass)*0.5\n",
    "        if self.right_neighbour:  \n",
    "            if self.right_neighbour.position == \"left\" and self.position == \"right\":\n",
    "                return (self.right_neighbour.mass + self.mass)*0.5\n",
    "        \n",
    "        return 0\n"
   ]
  },
  {
   "cell_type": "code",
   "execution_count": 78,
   "metadata": {},
   "outputs": [],
   "source": [
    "masa_aluminio = 2700\n",
    "masa_hierro = 7850\n",
    "tipo_atomo = [masa_aluminio, masa_hierro]\n",
    "c = (masa_hierro * 450 + masa_aluminio * 900) / (masa_aluminio + masa_hierro)\n",
    "T = 280\n",
    "iteraciones_micro = 1000\n",
    "atomos = 10000\n",
    "epochs = 20"
   ]
  },
  {
   "cell_type": "code",
   "execution_count": 79,
   "metadata": {},
   "outputs": [],
   "source": [
    "# Definir el rango deseado para velocidades más frecuentes\n",
    "velocidad_minima = 10\n",
    "velocidad_maxima = 20\n",
    "\n",
    "# Calcular la media en ese rango\n",
    "media_en_rango = (velocidad_maxima + velocidad_minima) / 2\n",
    "\n",
    "# Calcular la tasa (lambda) para la distribución exponencial\n",
    "lambda_param = 1 / media_en_rango\n",
    "\n",
    "# Tamaño de la muestra\n",
    "tamaño_muestra = epochs * iteraciones_micro\n",
    "\n",
    "# Generar una muestra de velocidades con distribución exponencial\n",
    "muestras_exponencial = np.random.exponential(scale=1/lambda_param, size=tamaño_muestra)"
   ]
  },
  {
   "cell_type": "code",
   "execution_count": 80,
   "metadata": {},
   "outputs": [],
   "source": [
    "varilla=[]\n",
    "m = 0\n",
    "for i in range(atomos):\n",
    "    if i % 2 ==0:\n",
    "        varilla.append(atomo(masa_aluminio, None, None, i))\n",
    "        m += masa_aluminio\n",
    "    else:\n",
    "        varilla.append(atomo(masa_hierro, None, None, i))\n",
    "        m += masa_hierro\n",
    "        \n",
    "for i in range(atomos):\n",
    "    if i == 0:\n",
    "        varilla[i].right_neighbour = varilla[i+1]\n",
    "    elif i == atomos-1:\n",
    "        varilla[i].left_neighbour = varilla[i-1]\n",
    "    else:\n",
    "        varilla[i].left_neighbour = varilla[i-1]\n",
    "        varilla[i].right_neighbour = varilla[i+1]\n",
    "    "
   ]
  },
  {
   "cell_type": "code",
   "execution_count": 81,
   "metadata": {},
   "outputs": [],
   "source": [
    "def calculate_Q(res, velocity):\n",
    "    return res * velocity"
   ]
  },
  {
   "cell_type": "code",
   "execution_count": 82,
   "metadata": {},
   "outputs": [],
   "source": [
    "def temperature_differnce(Q):\n",
    "    return Q / (m * c)"
   ]
  },
  {
   "cell_type": "code",
   "execution_count": 84,
   "metadata": {},
   "outputs": [],
   "source": [
    "i = 0\n",
    "temperatura = []\n",
    "for epoch in range(epochs):\n",
    "    Q_acumulado = 0\n",
    "    for iteraciones in range(iteraciones_micro):\n",
    "        velocidad = muestras_exponencial[i]\n",
    "        i += 1\n",
    "        for atomo in varilla:\n",
    "            atomo.random_move()\n",
    "        for atomo in varilla:\n",
    "            Q_acumulado += calculate_Q(atomo.exist_colision(), velocidad)\n",
    "    Q_acumulado /= 2.0\n",
    "    Q_promedio = Q_acumulado / iteraciones_micro\n",
    "    T = T + temperature_differnce(Q_promedio)\n",
    "    temperatura.append(T)\n"
   ]
  },
  {
   "cell_type": "code",
   "execution_count": 85,
   "metadata": {},
   "outputs": [
    {
     "data": {
      "image/png": "[encoded data removed]",
      "text/plain": [
       "<Figure size 640x480 with 1 Axes>"
      ]
     },
     "metadata": {},
     "output_type": "display_data"
    }
   ],
   "source": [
    "plt.scatter(range(len(temperatura)), temperatura, color='b', label='Datos', marker='o')\n",
    "\n",
    "# Añadir etiquetas y título\n",
    "plt.xlabel('Índice del Dato')\n",
    "plt.ylabel('Valor')\n",
    "plt.title('Puntos de Datos')\n",
    "\n",
    "# Mostrar el gráfico\n",
    "plt.legend()\n",
    "plt.show()"
   ]
  }
 ],
 "metadata": {
  "kernelspec": {
   "display_name": "myenv",
   "language": "python",
   "name": "python3"
  },
  "language_info": {
   "codemirror_mode": {
    "name": "ipython",
    "version": 3
   },
   "file_extension": ".py",
   "mimetype": "text/x-python",
   "name": "python",
   "nbconvert_exporter": "python",
   "pygments_lexer": "ipython3",
   "version": "3.10.11"
  },
  "orig_nbformat": 4
 },
 "nbformat": 4,
 "nbformat_minor": 2
}
