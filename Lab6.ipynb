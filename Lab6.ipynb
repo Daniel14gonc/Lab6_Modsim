{
 "cells": [
  {
   "cell_type": "markdown",
   "metadata": {},
   "source": [
    "# Laboratorio 6\n",
    "#### 20880 Sebastian Aristondo\n",
    "#### 20293 Daniel Gonzalez"
   ]
  }
 ],
 "metadata": {
  "language_info": {
   "name": "python"
  },
  "orig_nbformat": 4
 },
 "nbformat": 4,
 "nbformat_minor": 2
}
